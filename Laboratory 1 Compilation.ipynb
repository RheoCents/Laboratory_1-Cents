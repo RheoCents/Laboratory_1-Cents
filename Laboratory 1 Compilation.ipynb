{
 "cells": [
  {
   "cell_type": "markdown",
   "metadata": {},
   "source": [
    "Name: Jan Raphael S. Centina        | Date: 9/19/24\n",
    "Section: CpE 2-3                    | Subject: Data Structure and Algorithms"
   ]
  },
  {
   "cell_type": "markdown",
   "metadata": {},
   "source": [
    "Exercise 1: Temperature Converter\n",
    "Create a program that converts temperatures between Celsius and Fahrenheit.\n",
    "Instructions:\n",
    "1.\tAsk the user to input a temperature.\n",
    "2.\tAsk the user to select the conversion type: from Celsius to Fahrenheit or from Fahrenheit to Celsius.\n",
    "3.\tPerform the appropriate conversion and print the result."
   ]
  },
  {
   "cell_type": "code",
   "execution_count": null,
   "metadata": {},
   "outputs": [],
   "source": [
    "print(\"Welcome to Rheo's temperature converter\\nthis converts Fahrenheit to Celsius and vice versa\")\n",
    "def temperature_Converter():\n",
    "    try:\n",
    "        user_temperature_value = input(\"Enter the temperature that you want to convert. e.g. 34\\n\")\n",
    "        if user_temperature_value.isalpha():\n",
    "            print(\"please only enter intigers\")\n",
    "            temperature_Converter()\n",
    "        else:\n",
    "            user_temperature_type = input(\"\"\"Enter your corresponding conversion type (CTF or FTC)\n",
    "from Celsius to Fahrenheit - CTF\n",
    "from Fahrenheit to Celsius - FTC\n",
    "\"\"\" )\n",
    "            temperture_value = float(user_temperature_value)\n",
    "            if user_temperature_type.upper() == \"CTF\":\n",
    "                result = (temperture_value*1.8)+32\n",
    "                print(f\"The resulting temperature is {result}°F\")\n",
    "            elif user_temperature_type.upper() == \"FTC\":\n",
    "                result = (temperture_value - 32)/1.8\n",
    "                print(f\"The resulting temperature is {result}°C\")\n",
    "            else:\n",
    "                print(\"Please select between FTC or CTF\")\n",
    "                temperature_Converter()\n",
    "    except TypeError:\n",
    "        print(\"Please follow the needed format\")\n",
    "    except  ValueError:\n",
    "        print(\"Please follow the given format\")\n",
    "\n",
    "temperature_Converter()"
   ]
  },
  {
   "cell_type": "markdown",
   "metadata": {},
   "source": [
    "Exercise 2: Ohm’s Law Calculator\n",
    "Instructions:\n",
    "1.\tAsk the user what they want to calculate: Voltage, Current, or Resistance.\n",
    "2.\tBased on their choice, prompt the user to input the appropriate values.\n",
    "3.\tUse Ohm's Law to calculate the missing variable and display the result.\n",
    "4.\tHandle cases where division by zero might occur."
   ]
  },
  {
   "cell_type": "code",
   "execution_count": null,
   "metadata": {},
   "outputs": [],
   "source": [
    "print(\"Welcome to Rheo's Ohm's Law Calculator\\nthis calculator assumes that all the values are in eiter ampere, volts, and ohms\")\n",
    "print(\"\"\"Voltage - V\n",
    "Current - I\n",
    "Resistance - R\"\"\")\n",
    "def initialization():\n",
    "    calculator_type = input(\"What do you want to Calculate: V, I, or R \")\n",
    "    if calculator_type.upper() == \"V\":\n",
    "        voltage_calculator()\n",
    "    elif calculator_type.upper() == \"I\":\n",
    "        current_calculator()\n",
    "    elif calculator_type.upper() == \"R\":\n",
    "        resistance_calculator()\n",
    "    else:\n",
    "        print(\"Please choose from the options\")\n",
    "        initialization()\n",
    "def voltage_calculator():\n",
    "    try:\n",
    "        current = float(input(\"Please enter your current reading \"))\n",
    "        resistance = float(input(\"Please enter resistance reading \"))\n",
    "        voltage = current*resistance\n",
    "        print(f'The total voltage is {voltage}V')\n",
    "    except (TypeError, ValueError) :\n",
    "        print(\"Please enter the right values\")\n",
    "        voltage_calculator()\n",
    "def current_calculator():\n",
    "    try: \n",
    "        voltage = float(input(\"Please enter your voltage reading \"))\n",
    "        resistance = float(input(\"Please enter resistance reading \"))\n",
    "        current = voltage/resistance\n",
    "        print(f'The total current is {current}amp')\n",
    "    except (TypeError, ValueError) :\n",
    "        print(\"Please enter the right values\")\n",
    "        current_calculator()\n",
    "    except ZeroDivisionError:\n",
    "        print(\"You cannot divide by zero\")\n",
    "        current_calculator()\n",
    "def resistance_calculator():\n",
    "    try: \n",
    "        voltage = float(input(\"Please enter your voltage reading \"))\n",
    "        current = float(input(\"Please enter current reading \"))\n",
    "        resistance = voltage/current\n",
    "        print(f'The total current is {resistance}amp')\n",
    "    except (TypeError, ValueError) :\n",
    "        print(\"Please enter the right values\")\n",
    "        resistance_calculator()\n",
    "    except ZeroDivisionError:\n",
    "        print(\"You cannot divide by zero\")\n",
    "        \n",
    "initialization()"
   ]
  },
  {
   "cell_type": "markdown",
   "metadata": {},
   "source": [
    "Exercise 3:  Diamond Shape (advance topic):\n",
    "\n",
    "Write a Python function named print_diamond that takes an odd integer n as an argument and prints a diamond shape with a width of n using the * character."
   ]
  },
  {
   "cell_type": "code",
   "execution_count": null,
   "metadata": {},
   "outputs": [],
   "source": [
    "print(\"This is Rheo's Diamond printer\\nYou will enter an odd intiger and it will print a diamond\")\n",
    "def diamond_printer():\n",
    "    try:\n",
    "\n",
    "        user_odd_integer = int(input(\"Please enter an odd integer: \"))\n",
    "        if user_odd_integer % 2 != 0:  \n",
    "            for i in range(user_odd_integer // 2 + 1):\n",
    "                spaces = ' ' * (user_odd_integer // 2 - i)  \n",
    "                stars = '*' * (2 * i + 1)\n",
    "                print(spaces + stars)\n",
    "            \n",
    "            for i in range(user_odd_integer // 2 - 1, -1, -1):\n",
    "                spaces = ' ' * (user_odd_integer // 2 - i)\n",
    "                stars = '*' * (2 * i + 1)\n",
    "                print(spaces + stars)\n",
    "        elif user_odd_integer < 0:\n",
    "            print(\"Please provide a positive odd integer.\")\n",
    "            diamond_printer()\n",
    "        else:\n",
    "            print(\"Please provide an odd integer.\")\n",
    "            diamond_printer()\n",
    "    except ValueError:  \n",
    "        print(\"Please enter a valid integer.\")\n",
    "        diamond_printer() \n",
    "\n",
    "diamond_printer()"
   ]
  }
 ],
 "metadata": {
  "kernelspec": {
   "display_name": "Python 3",
   "language": "python",
   "name": "python3"
  },
  "language_info": {
   "name": "python",
   "version": "3.12.4"
  }
 },
 "nbformat": 4,
 "nbformat_minor": 2
}
